{
 "cells": [
  {
   "cell_type": "code",
   "execution_count": 10,
   "metadata": {},
   "outputs": [
    {
     "name": "stdout",
     "output_type": "stream",
     "text": [
      "Weight76\n",
      "p (Pound) or K  (Kilogram)p\n",
      "You are 168.88888888888889 Pounds\n"
     ]
    }
   ],
   "source": [
    "weight = int(input(\"Weight\"))\n",
    " \n",
    "\n",
    "new = input(\"p (Pound) or K  (Kilogram)\")\n",
    "\n",
    "if new.upper() == \"p\":\n",
    "    converted = weight * 0.45\n",
    "    print(f\"you are {coverted} kilos\")\n",
    "\n",
    "else:\n",
    "    converted = weight / 0.45\n",
    "    print(f\"You are {converted} Pounds\")"
   ]
  },
  {
   "cell_type": "code",
   "execution_count": null,
   "metadata": {},
   "outputs": [],
   "source": []
  },
  {
   "cell_type": "markdown",
   "metadata": {},
   "source": []
  }
 ],
 "metadata": {
  "kernelspec": {
   "display_name": "Python 3",
   "language": "python",
   "name": "python3"
  },
  "language_info": {
   "codemirror_mode": {
    "name": "ipython",
    "version": 3
   },
   "file_extension": ".py",
   "mimetype": "text/x-python",
   "name": "python",
   "nbconvert_exporter": "python",
   "pygments_lexer": "ipython3",
   "version": "3.7.1"
  }
 },
 "nbformat": 4,
 "nbformat_minor": 2
}
